{
 "cells": [
  {
   "cell_type": "code",
   "execution_count": 1,
   "metadata": {},
   "outputs": [],
   "source": [
    "import json\n",
    "import requests\n",
    "import pandas as pd\n",
    "from DATA.CODE_REFERENCES.ENVIRONMENT.compliance_env import get_compliance_data, check_valid_dates\n",
    "from datetime import datetime, timedelta"
   ]
  },
  {
   "cell_type": "code",
   "execution_count": 2,
   "metadata": {},
   "outputs": [
    {
     "name": "stdout",
     "output_type": "stream",
     "text": [
      "days with data:  ['2024-08-15']\n"
     ]
    }
   ],
   "source": [
    "company = \"rudin\"\n",
    "building = \"845_third\"\n",
    "## Notes for date\n",
    "## an example of calculating yesterday's date, always dynamically change the date\n",
    "yesterday = (datetime.now() - timedelta(days=1)).strftime('%Y-%m-%d')\n",
    "start_date = yesterday\n",
    "end_date =  yesterday\n",
    "## compliance is to check whether past recommendations have been accepted, \n",
    "## therefore no weekends, no holidays, only past days' data, no today or future data\n",
    "## should check whether the date has data\n",
    "# start_date and end_date are both included, returned a dict of {date: has_data: bool}\n",
    "days_valid =  check_valid_dates(start_date, end_date, company, building)\n",
    "valid_days_list = [date.strftime('%Y-%m-%d') for date, has_data in days_valid.items() if has_data]\n",
    "print(\"days with data: \", valid_days_list)\n"
   ]
  },
  {
   "cell_type": "code",
   "execution_count": 4,
   "metadata": {},
   "outputs": [
    {
     "data": {
      "text/html": [
       "<div>\n",
       "<style scoped>\n",
       "    .dataframe tbody tr th:only-of-type {\n",
       "        vertical-align: middle;\n",
       "    }\n",
       "\n",
       "    .dataframe tbody tr th {\n",
       "        vertical-align: top;\n",
       "    }\n",
       "\n",
       "    .dataframe thead th {\n",
       "        text-align: right;\n",
       "    }\n",
       "</style>\n",
       "<table border=\"1\" class=\"dataframe\">\n",
       "  <thead>\n",
       "    <tr style=\"text-align: right;\">\n",
       "      <th></th>\n",
       "      <th>date</th>\n",
       "      <th>ecm_command_type</th>\n",
       "      <th>complied</th>\n",
       "    </tr>\n",
       "  </thead>\n",
       "  <tbody>\n",
       "    <tr>\n",
       "      <th>0</th>\n",
       "      <td>2024-08-15</td>\n",
       "      <td>startup</td>\n",
       "      <td>False</td>\n",
       "    </tr>\n",
       "    <tr>\n",
       "      <th>1</th>\n",
       "      <td>2024-08-15</td>\n",
       "      <td>shutdown</td>\n",
       "      <td>False</td>\n",
       "    </tr>\n",
       "    <tr>\n",
       "      <th>2</th>\n",
       "      <td>2024-08-15</td>\n",
       "      <td>lunch_rampdown</td>\n",
       "      <td>True</td>\n",
       "    </tr>\n",
       "    <tr>\n",
       "      <th>3</th>\n",
       "      <td>2024-08-15</td>\n",
       "      <td>lunch_rampup</td>\n",
       "      <td>True</td>\n",
       "    </tr>\n",
       "    <tr>\n",
       "      <th>4</th>\n",
       "      <td>2024-08-15</td>\n",
       "      <td>final_rampdown</td>\n",
       "      <td>True</td>\n",
       "    </tr>\n",
       "  </tbody>\n",
       "</table>\n",
       "</div>"
      ],
      "text/plain": [
       "         date ecm_command_type complied\n",
       "0  2024-08-15          startup    False\n",
       "1  2024-08-15         shutdown    False\n",
       "2  2024-08-15   lunch_rampdown     True\n",
       "3  2024-08-15     lunch_rampup     True\n",
       "4  2024-08-15   final_rampdown     True"
      ]
     },
     "execution_count": 4,
     "metadata": {},
     "output_type": "execute_result"
    }
   ],
   "source": [
    "if len(valid_days_list)>0:\n",
    "    for date in valid_days_list:\n",
    "        df = get_compliance_data(company, building, date, ecm_command_type='all')\n",
    "df.head()"
   ]
  },
  {
   "cell_type": "code",
   "execution_count": 9,
   "metadata": {},
   "outputs": [
    {
     "name": "stdout",
     "output_type": "stream",
     "text": [
      "total compliance rate: 0.5\n",
      "ecm_command_type\n",
      "final_rampdown    1.0\n",
      "lunch_rampdown    1.0\n",
      "lunch_rampup      1.0\n",
      "shutdown          0.0\n",
      "startup           0.0\n",
      "dtype: object\n"
     ]
    }
   ],
   "source": [
    "## calculate compliance rate\n",
    "df = df.dropna(subset=['ecm_command_type'])\n",
    "## total compliance rate\n",
    "print(f\"total compliance rate: {df['complied'].sum() / len(df)}\")\n",
    "## give a breakdown of compliance rate by ecm_command_type\n",
    "print(df.groupby('ecm_command_type')['complied'].sum()/df.groupby('ecm_command_type')['ecm_command_type'].count())"
   ]
  }
 ],
 "metadata": {
  "kernelspec": {
   "display_name": "Python 3 (ipykernel)",
   "language": "python",
   "name": "python3"
  },
  "language_info": {
   "codemirror_mode": {
    "name": "ipython",
    "version": 3
   },
   "file_extension": ".py",
   "mimetype": "text/x-python",
   "name": "python",
   "nbconvert_exporter": "python",
   "pygments_lexer": "ipython3",
   "version": "3.9.6"
  }
 },
 "nbformat": 4,
 "nbformat_minor": 2
}
