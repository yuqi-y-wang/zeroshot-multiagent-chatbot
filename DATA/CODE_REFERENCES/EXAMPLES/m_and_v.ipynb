{
 "cells": [
  {
   "cell_type": "code",
   "execution_count": 24,
   "metadata": {},
   "outputs": [],
   "source": [
    "from DATA.CODE_REFERENCES.ENVIRONMENT.m_and_v_env import get_savings_for_one_day"
   ]
  },
  {
   "cell_type": "code",
   "execution_count": 25,
   "metadata": {},
   "outputs": [],
   "source": [
    "## specify the company, building, resource, and device_ids first\n",
    "company = \"rudin\"\n",
    "building = \"345_Park\"# \"845_third\"#\n",
    "resource = \"electric_demand\"\n",
    "# This is just an example, you can change the date to any date you want.\n",
    "# If the user asked about a period, should calculate for each day in the period.\n",
    "# and then give the results based on user's request, such as calculate total for the period, etc.\n",
    "date = \"2024-05-30\" # date can be specified\n",
    "# or calculate based on user's request\n",
    "from datetime import datetime, timedelta\n",
    "date = (datetime.now() - timedelta(days=1)).strftime(\"%Y-%m-%d\")\n",
    "savings = get_savings_for_one_day(company, building, resource, date)"
   ]
  },
  {
   "cell_type": "code",
   "execution_count": 26,
   "metadata": {},
   "outputs": [
    {
     "name": "stdout",
     "output_type": "stream",
     "text": [
      "{'ecm': [{'name': 'startup', 'savings': 2467.2860600606696, 'percentage': 2.6771591150264404, 'units': 'kWh', 'utility': 'electric'}, {'name': 'lunch_ramp', 'savings': 98.79790336981338, 'percentage': 0.10720188138439588, 'units': 'kWh', 'utility': 'electric'}, {'name': 'final_ramp', 'savings': 886.1218896998636, 'percentage': 0.9614974657523537, 'units': 'kWh', 'utility': 'electric'}], 'total': [{'observed': 88708.4, 'expected': 92160.60585313033, 'percentage': 3.745858462163176, 'savings': 3452.2058531303337, 'units': 'kWh', 'utility': 'electric'}], 'date': '2024-05-30'}\n",
      "The savings for startup are 2467.2860600606696 kWh, which is 2.6771591150264404% of the total usage.\n",
      "The savings for lunch_ramp are 98.79790336981338 kWh, which is 0.10720188138439588% of the total usage.\n",
      "The savings for final_ramp are 886.1218896998636 kWh, which is 0.9614974657523537% of the total usage.\n",
      "Total observed usage: 88708.4 kWh\n",
      "Total expected usage: 92160.60585313033 kWh\n",
      "Total savings: 3452.2058531303337 kWh, which is 3.745858462163176% of the expected usage.\n"
     ]
    }
   ],
   "source": [
    "## see below as an example\n",
    "print(savings)\n",
    "\n",
    "# Print the savings for each energy conservation measure (ECM) with explanation\n",
    "for ecm in savings['ecm']:\n",
    "    print(f\"The savings for {ecm['name']} are {ecm['savings']} {ecm['units']}, which is {ecm['percentage']}% of the total usage.\")\n",
    "\n",
    "total_savings = savings['total'][0]\n",
    "print(f\"Total observed usage: {total_savings['observed']} {total_savings['units']}\")\n",
    "print(f\"Total expected usage: {total_savings['expected']} {total_savings['units']}\")\n",
    "print(f\"Total savings: {total_savings['savings']} {total_savings['units']}, which is {total_savings['percentage']}% of the expected usage.\")\n"
   ]
  },
  {
   "cell_type": "code",
   "execution_count": 27,
   "metadata": {},
   "outputs": [
    {
     "name": "stdout",
     "output_type": "stream",
     "text": [
      "Total energy savings for last month: 63444.87924271934 kWh\n"
     ]
    }
   ],
   "source": [
    "## If the user asks about a period, should calculate for each day in the period.\n",
    "## and then give the results based on user's request, such as calculate total for the period, etc.\n",
    "\n",
    "## Eg. The user asks \"How much energy did Nantum save for company rudin and building 345_Park last month?\"\n",
    "from datetime import datetime, timedelta\n",
    "from concurrent.futures import ThreadPoolExecutor\n",
    "\n",
    "# Define the period for last month\n",
    "today = datetime.today()\n",
    "first_day_last_month = (today.replace(day=1) - timedelta(days=1)).replace(day=1)\n",
    "last_day_last_month = today.replace(day=1) - timedelta(days=1)\n",
    "\n",
    "# Generate a list of dates for last month\n",
    "date_list = [first_day_last_month + timedelta(days=x) for x in range((last_day_last_month - first_day_last_month).days + 1)]\n",
    "\n",
    "# When trying to pull multiple days' data, \n",
    "with ThreadPoolExecutor(max_workers=30) as executor:\n",
    "    results = list(executor.map(lambda date: get_savings_for_one_day(\n",
    "        company, building, resource, date.strftime(\"%Y-%m-%d\")), date_list))\n",
    "\n",
    "# Summarize the total savings for the month\n",
    "total_monthly_savings = sum(day['total'][0]['savings'] for day in results if 'total' in day and day['total'])\n",
    "print(f\"Total energy savings for last month: {total_monthly_savings} kWh\")\n"
   ]
  }
 ],
 "metadata": {
  "kernelspec": {
   "display_name": "Python 3 (ipykernel)",
   "language": "python",
   "name": "python3"
  },
  "language_info": {
   "codemirror_mode": {
    "name": "ipython",
    "version": 3
   },
   "file_extension": ".py",
   "mimetype": "text/x-python",
   "name": "python",
   "nbconvert_exporter": "python",
   "pygments_lexer": "ipython3",
   "version": "3.9.6"
  }
 },
 "nbformat": 4,
 "nbformat_minor": 2
}
